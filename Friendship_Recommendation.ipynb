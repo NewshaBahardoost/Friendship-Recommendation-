{
  "nbformat": 4,
  "nbformat_minor": 0,
  "metadata": {
    "colab": {
      "provenance": []
    },
    "kernelspec": {
      "name": "python3",
      "display_name": "Python 3"
    },
    "language_info": {
      "name": "python"
    }
  },
  "cells": [
    {
      "cell_type": "markdown",
      "source": [
        "ID: V01053626\n",
        "Name: Newsha Bahardoost"
      ],
      "metadata": {
        "id": "5HTekI_lXoCr"
      }
    },
    {
      "cell_type": "markdown",
      "source": [
        "Sketch:This PySpark code recommends friends by analyzing mutual connections. It loads user-friend data, extracts individual relationships, and finds pairs of users who share mutual friends. After counting shared connections, it filters out existing friendships and ranks the top 10 potential friends for each user. Finally, it selects and displays recommendations for specific target users."
      ],
      "metadata": {
        "id": "PQTearj-YBAl"
      }
    },
    {
      "cell_type": "code",
      "source": [
        "from pyspark.sql import SparkSession #Read data, Process data, and save the processed data\n",
        "from pyspark.sql.functions import col, split, explode, collect_list, row_number, array_join #imports useful functions from PySpark's functions\n",
        "from pyspark.sql.window import Window # The Window function enables operations that depend on the relationships between rows like ranking\n",
        "from google.colab import drive\n",
        "\n",
        "# Mount Google Drive\n",
        "drive.mount('/content/drive')\n",
        "\n",
        "\n",
        "spark = SparkSession.builder \\\n",
        "    .appName(\"MutualFriendRecommendation\") \\\n",
        "    .config(\"spark.sql.shuffle.partitions\", \"200\") \\\n",
        "    .getOrCreate()\n",
        "\n",
        "raw_data = spark.read.text(\"/content/p1-users.txt\")\n",
        "\n",
        "user_friends = raw_data.select(\n",
        "    split(col(\"value\"), \"\\t\").getItem(0).cast(\"int\").alias(\"user\"),\n",
        "    split(split(col(\"value\"), \"\\t\").getItem(1), \",\").cast(\"array<int>\").alias(\"friends\")\n",
        ").cache()\n",
        "\n",
        "user_friend_pairs = user_friends \\\n",
        "    .select(\"user\", explode(\"friends\").alias(\"friend\")) \\\n",
        "    .cache()\n",
        "\n",
        "mutual_friends = user_friend_pairs.alias(\"uf1\") \\\n",
        "    .join(\n",
        "        user_friend_pairs.alias(\"uf2\"),\n",
        "        (col(\"uf1.friend\") == col(\"uf2.friend\")) &\n",
        "        (col(\"uf1.user\") < col(\"uf2.user\"))\n",
        "    ) \\\n",
        "    .select(\n",
        "        col(\"uf1.user\").alias(\"user1\"),\n",
        "        col(\"uf2.user\").alias(\"user2\"),\n",
        "        col(\"uf1.friend\").alias(\"mutual_friend\")\n",
        "    )\n",
        "\n",
        "mutual_friend_counts = mutual_friends \\\n",
        "    .groupBy(\"user1\", \"user2\") \\\n",
        "    .count()\n",
        "\n",
        "existing_friends = user_friend_pairs \\\n",
        "    .select(\n",
        "        col(\"user\").alias(\"user1\"),\n",
        "        col(\"friend\").alias(\"user2\")\n",
        "    ).distinct()\n",
        "\n",
        "recommendations = mutual_friend_counts \\\n",
        "    .join(\n",
        "        existing_friends,\n",
        "        [\"user1\", \"user2\"],\n",
        "        \"left_anti\"\n",
        "    )\n",
        "\n",
        "window_spec = Window.partitionBy(\"user1\").orderBy(col(\"count\").desc(), col(\"user2\").asc())\n",
        "\n",
        "\n",
        "final_recommendations = recommendations \\\n",
        "    .withColumn(\"rank\", row_number().over(window_spec)) \\\n",
        "    .filter(col(\"rank\") <= 10) \\\n",
        "    .groupBy(\"user1\") \\\n",
        "    .agg(collect_list(\"user2\").alias(\"recommendations\")) \\\n",
        "    .select(\n",
        "        col(\"user1\").alias(\"user\"),\n",
        "       array_join(col(\"recommendations\"), \",\").alias(\"recommendations\")\n",
        "    )\n",
        "\n",
        "target_users = [11, 924, 8941, 8942, 9019, 9020, 9021, 9022, 9990, 9992, 9993]\n",
        "\n",
        "result = final_recommendations \\\n",
        "   .filter(col(\"user\").isin(target_users)) \\\n",
        "   .orderBy(\"user\") \\\n",
        "   .select(\"user\", \"recommendations\")\n",
        "\n",
        "\n",
        "for row in result.collect():\n",
        "    user = row[\"user\"]\n",
        "    recommendations = row[\"recommendations\"]\n",
        "    print(f\"{user}\\t{recommendations}\")\n"
      ],
      "metadata": {
        "colab": {
          "base_uri": "https://localhost:8080/"
        },
        "id": "Wn8lKZibMtc8",
        "outputId": "cc4b8a3f-effa-464f-f087-0460098c55be"
      },
      "execution_count": 4,
      "outputs": [
        {
          "output_type": "stream",
          "name": "stdout",
          "text": [
            "Drive already mounted at /content/drive; to attempt to forcibly remount, call drive.mount(\"/content/drive\", force_remount=True).\n",
            "11\t27552,7785,27573,27574,27589,27590,27600,27617,27620,27667\n",
            "924\t2409,6995,11860,15416,43748,45881\n",
            "8941\t8943,8944\n",
            "8942\t8943,8944\n",
            "9019\t9022,9023\n",
            "9020\t9021,9022,9023\n",
            "9021\t9022,9023\n",
            "9022\t9023\n",
            "9990\t13134,13478,13877,34299,34485,34642,37941\n",
            "9992\t35667\n",
            "9993\t13134,13478,13877,34299,34485,34642,37941\n"
          ]
        }
      ]
    }
  ]
}